{
 "cells": [
  {
   "cell_type": "markdown",
   "metadata": {},
   "source": [
    "<a href='https://www.darshan.ac.in/'> <img src='https://www.darshan.ac.in/Content/media/DU_Logo.svg' width=\"250\" height=\"300\"/></a>\n",
    "<pre>\n",
    "<center><b><h1>Python Programming - 2301CS404</b></center>\n",
    "<center><b><h1>Lab - 13</b></center>\n",
    "<center><b><h1>Riya Bhimani | 23010101030 | 03-03-2025</b></center>\n",
    "<pre>"
   ]
  },
  {
   "cell_type": "markdown",
   "metadata": {},
   "source": [
    "# OOP"
   ]
  },
  {
   "cell_type": "markdown",
   "metadata": {},
   "source": [
    "### 01) Write a Program to create a class by name Students, and initialize attributes like name, age, and grade while creating an object."
   ]
  },
  {
   "cell_type": "code",
   "execution_count": 6,
   "metadata": {},
   "outputs": [
    {
     "name": "stdout",
     "output_type": "stream",
     "text": [
      "Riya\n",
      "18\n",
      "A++\n"
     ]
    }
   ],
   "source": [
    "class Students:\n",
    "    def __init__(self,name,age,grade):\n",
    "        self.Name = name\n",
    "        self.Age = age\n",
    "        self.Grade = grade\n",
    "\n",
    "s1 = Students('Riya',18,'A++')\n",
    "print(s1.Name)\n",
    "print(s1.Age)\n",
    "print(s1.Grade)"
   ]
  },
  {
   "cell_type": "markdown",
   "metadata": {},
   "source": [
    "### 02) Create a class named Bank_Account with Account_No, User_Name, Email,Account_Type and Account_Balance data members. Also create a method GetAccountDetails() and DisplayAccountDetails(). Create main method to demonstrate the Bank_Account class."
   ]
  },
  {
   "cell_type": "code",
   "execution_count": 32,
   "metadata": {},
   "outputs": [
    {
     "name": "stdout",
     "output_type": "stream",
     "text": [
      "Account_No: 1234567890\n",
      "User_Name: Riya\n",
      "Email: riya@gmail.com\n",
      "Account_Type: saving\n",
      "Account_Balance: 1000000\n"
     ]
    }
   ],
   "source": [
    "class Bank_Account:\n",
    "    # Account_No = ''\n",
    "    # User_Name = ''\n",
    "    # Email = ''\n",
    "    # Account_Type = ''\n",
    "    # Account_Balance = 0\n",
    "    \n",
    "    def GetAccountDetails(self,account_no,user_name,email,account_type,account_balance):\n",
    "        self.Account_No = account_no\n",
    "        self.User_Name = user_name\n",
    "        self.Email = email\n",
    "        self.Account_Type = account_type\n",
    "        self.Account_Balance = account_balance\n",
    "\n",
    "    def DisplayAccountDetails(self):\n",
    "        print(\"Account_No:\",self.Account_No)\n",
    "        print(\"User_Name:\",self.User_Name)\n",
    "        print(\"Email:\",self.Email)\n",
    "        print(\"Account_Type:\",self.Account_Type)\n",
    "        print(\"Account_Balance:\",self.Account_Balance)\n",
    "\n",
    "ba = Bank_Account()\n",
    "ba.GetAccountDetails('1234567890','Riya','riya@gmail.com','saving',1000000)\n",
    "ba.DisplayAccountDetails()\n",
    "\n",
    "# For main method\n",
    "#if __name__ == '__main__':\n",
    "    #ba = Bank_Account()\n",
    "    #ba.GetAccountDetails('1234567890','Riya','riya@gmail.com','saving',1000000)\n",
    "    #ba.DisplayAccountDetails()"
   ]
  },
  {
   "cell_type": "markdown",
   "metadata": {},
   "source": [
    "### 03) WAP to create Circle class with area and perimeter function to find area and perimeter of circle."
   ]
  },
  {
   "cell_type": "code",
   "execution_count": 31,
   "metadata": {},
   "outputs": [
    {
     "name": "stdout",
     "output_type": "stream",
     "text": [
      "Perimeter =  25.12\n",
      "Area =  50.24\n"
     ]
    }
   ],
   "source": [
    "class Circle:\n",
    "    def __init__(self,radius):\n",
    "        self.Radius= radius\n",
    "\n",
    "    def perimeter(self):\n",
    "        print(\"Perimeter = \",2*3.14*self.Radius)\n",
    "\n",
    "    def area(self):\n",
    "        print(\"Area = \",3.14*self.Radius*self.Radius)\n",
    "\n",
    "C = Circle(4)\n",
    "C.perimeter()\n",
    "C.area()"
   ]
  },
  {
   "cell_type": "markdown",
   "metadata": {},
   "source": [
    "### 04) Create a class for employees that includes attributes such as name, age, salary, and methods to update and display employee information."
   ]
  },
  {
   "cell_type": "code",
   "execution_count": 74,
   "metadata": {},
   "outputs": [
    {
     "name": "stdout",
     "output_type": "stream",
     "text": [
      "Employee Name: Riya \n",
      "Age: 18 \n",
      "Salary: 50000\n",
      "Employee Name: Riya \n",
      "Age: 19 \n",
      "Salary: 55000\n"
     ]
    }
   ],
   "source": [
    "class Employee:\n",
    "    def __init__(self, name, age, salary):\n",
    "        self.name = name\n",
    "        self.age = age\n",
    "        self.salary = salary\n",
    "\n",
    "    def update_info(self, name=None, age=None, salary=None):\n",
    "        if name is not None:\n",
    "            self.name = name\n",
    "        if age is not None:\n",
    "            self.age = age\n",
    "        if salary is not None:\n",
    "            self.salary = salary\n",
    "\n",
    "    def display_info(self):\n",
    "        print(\"Employee Name:\",self.name, \"\\nAge:\",self.age, \"\\nSalary:\",self.salary)\n",
    "\n",
    "employee1 = Employee(\"Riya\", 18, 50000)\n",
    "employee1.display_info()\n",
    "employee1.update_info(age=19, salary=55000)\n",
    "employee1.display_info()"
   ]
  },
  {
   "cell_type": "markdown",
   "metadata": {},
   "source": [
    "### 05) Create a bank account class with methods to deposit, withdraw, and check balance."
   ]
  },
  {
   "cell_type": "code",
   "execution_count": 39,
   "metadata": {},
   "outputs": [
    {
     "name": "stdout",
     "output_type": "stream",
     "text": [
      "After Deposit 5000  Balance is 15000\n",
      "After Withdraw 5000  Balance is 10000\n",
      "Now Current Balance is 10000\n"
     ]
    }
   ],
   "source": [
    "class Bank_Account:\n",
    "    current_balance = 0\n",
    "    def __init__(self,current_balance,money):\n",
    "        self.Current_Balance = current_balance\n",
    "        self.Money = money\n",
    "\n",
    "    def deposit(self):\n",
    "        self.Current_Balance += self.Money\n",
    "        print(\"After Deposit\",self.Money,\" Balance is\",self.Current_Balance)\n",
    "\n",
    "    def withdraw(self):\n",
    "        if (self.Current_Balance >= self.Money) :\n",
    "            self.Current_Balance -= self.Money\n",
    "        print(\"After Withdraw\",self.Money,\" Balance is\",self.Current_Balance)\n",
    "    \n",
    "    def checkbalance(self):\n",
    "        print(\"Now Current Balance is\",self.Current_Balance)\n",
    "\n",
    "B_acc = Bank_Account(10000,5000)\n",
    "B_acc.deposit()\n",
    "B_acc.withdraw()\n",
    "B_acc.checkbalance()"
   ]
  },
  {
   "cell_type": "markdown",
   "metadata": {},
   "source": [
    "### 06) Create a class for managing inventory that includes attributes such as item name, price, quantity, and methods to add, remove, and update items."
   ]
  },
  {
   "cell_type": "code",
   "execution_count": 1,
   "metadata": {},
   "outputs": [
    {
     "name": "stdin",
     "output_type": "stream",
     "text": [
      "Enter your items name:  Clothes\n",
      "Enter item price : 2000\n",
      "Enter a quantity of your item: 20\n"
     ]
    },
    {
     "name": "stdout",
     "output_type": "stream",
     "text": [
      "\n",
      " after add data...\n",
      "\n",
      "Item name is : Clothes\n",
      "Item price is : 2000.0\n",
      "Item quantity is :  20\n",
      "\n",
      " after update Items........\n",
      "\n",
      "Item name is : laptop\n",
      "Item price is : 1\n",
      "Item quantity is :  20\n",
      "\n",
      " after delete items Items........\n",
      "\n",
      "Item name is : None\n",
      "Item price is : None\n",
      "Item quantity is :  None\n"
     ]
    }
   ],
   "source": [
    "class Managing_inventory:\n",
    "    def _init_ (self):\n",
    "        pass\n",
    "\n",
    "    def AddItems(self):\n",
    "        self.name = input(\"Enter your items name: \")\n",
    "        self.price = float(input(\"Enter item price :\"))\n",
    "        self.quantity = int(input(\"Enter a quantity of your item:\"))\n",
    "\n",
    "    def DisplayItem(self):\n",
    "        print(\"Item name is :\",self.name)\n",
    "        print(\"Item price is :\",self.price)\n",
    "        print(\"Item quantity is : \",self.quantity)\n",
    "\n",
    "    def  UpdateItem(self,name=None,price=None,quantity=None):\n",
    "        if name:\n",
    "            self.name = name\n",
    "        if price:\n",
    "            self.price = price\n",
    "        if quantity:\n",
    "            self.quantity = quantity\n",
    "\n",
    "    def DeleteItem(self):\n",
    "        self.name = None\n",
    "        self.price = None\n",
    "        self.quantity = None\n",
    "\n",
    "items = Managing_inventory()\n",
    "items.AddItems()\n",
    "\n",
    "print(\"\\n after add data...\\n\")\n",
    "items.DisplayItem()\n",
    "\n",
    "print(\"\\n after update Items........\\n\")\n",
    "items.UpdateItem(name='laptop' , price =1)\n",
    "items.DisplayItem()\n",
    "\n",
    "print(\"\\n after delete items Items........\\n\")\n",
    "items.DeleteItem()\n",
    "items.DisplayItem()"
   ]
  },
  {
   "cell_type": "markdown",
   "metadata": {},
   "source": [
    "### 07) Create a Class with instance attributes of your choice."
   ]
  },
  {
   "cell_type": "code",
   "execution_count": 42,
   "metadata": {},
   "outputs": [
    {
     "name": "stdout",
     "output_type": "stream",
     "text": [
      "Name = Riya\n",
      "SPI = 8.63\n"
     ]
    }
   ],
   "source": [
    "class Student:\n",
    "    def __init__(self,name,spi):\n",
    "        self.Name = name\n",
    "        self.SPI = spi\n",
    "        \n",
    "s1 = Student('Riya','8.63')\n",
    "print(\"Name =\",s1.Name)\n",
    "print(\"SPI =\",s1.SPI)"
   ]
  },
  {
   "cell_type": "markdown",
   "metadata": {},
   "source": [
    "### 08) Create one class student_kit\n",
    "#### Within the student_kit class create one class attribute principal name ( Mr ABC )\n",
    "#### Create one attendance method and take input as number of days.\n",
    "#### While creating student take input their name .\n",
    "#### Create one certificate for each student by taking input of number of days present in class."
   ]
  },
  {
   "cell_type": "code",
   "execution_count": 70,
   "metadata": {},
   "outputs": [
    {
     "name": "stdin",
     "output_type": "stream",
     "text": [
      "Enter number of days present:  30\n"
     ]
    },
    {
     "name": "stdout",
     "output_type": "stream",
     "text": [
      "Certificate of Attendance\n",
      "Student: Riya \n",
      "Principal:  Mr ABC \n",
      "Days Present:  30\n"
     ]
    }
   ],
   "source": [
    "class Student_Kit:\n",
    "    principal_name = \"Mr ABC\"\n",
    "    \n",
    "    def __init__(self, student_name):\n",
    "        self.student_name = student_name\n",
    "        self.attendance_days = 0\n",
    "    \n",
    "    def mark_attendance(self, days):\n",
    "        self.attendance_days = days\n",
    "    \n",
    "    def generate_certificate(self):\n",
    "        print(\"Certificate of Attendance\\nStudent:\" ,self.student_name,\"\\nPrincipal: \",Student_Kit.principal_name,\"\\nDays Present: \",self.attendance_days)\n",
    "        \n",
    "student1 = Student_Kit(\"Riya\")\n",
    "days_present = int(input(\"Enter number of days present: \"))\n",
    "student1.mark_attendance(days_present)\n",
    "student1.generate_certificate()"
   ]
  },
  {
   "cell_type": "markdown",
   "metadata": {},
   "source": [
    "### 09) Define Time class with hour and minute as data member. Also define addition method to add two time objects."
   ]
  },
  {
   "cell_type": "code",
   "execution_count": 64,
   "metadata": {},
   "outputs": [
    {
     "name": "stdout",
     "output_type": "stream",
     "text": [
      "4 hours 15 minutes\n"
     ]
    }
   ],
   "source": [
    "class Time:\n",
    "    def __init__(self, hour, minute):\n",
    "        self.hour = hour\n",
    "        self.minute = minute\n",
    "\n",
    "    def add(self, other):\n",
    "        total_minutes = self.minute + other.minute\n",
    "        extra_hours = total_minutes // 60\n",
    "        minutes = total_minutes % 60\n",
    "        hours = self.hour + other.hour + extra_hours\n",
    "        return Time(hours, minutes)\n",
    "\n",
    "    def displayTime(self):\n",
    "        print(self.hour , \"hours\" , self.minute , \"minutes\")\n",
    "\n",
    "time1 = Time(2, 45)\n",
    "time2 = Time(1, 30)\n",
    "result = time1.add(time2)\n",
    "result.displayTime()  "
   ]
  }
 ],
 "metadata": {
  "kernelspec": {
   "display_name": "Python 3 (ipykernel)",
   "language": "python",
   "name": "python3"
  },
  "language_info": {
   "codemirror_mode": {
    "name": "ipython",
    "version": 3
   },
   "file_extension": ".py",
   "mimetype": "text/x-python",
   "name": "python",
   "nbconvert_exporter": "python",
   "pygments_lexer": "ipython3",
   "version": "3.12.7"
  }
 },
 "nbformat": 4,
 "nbformat_minor": 4
}
