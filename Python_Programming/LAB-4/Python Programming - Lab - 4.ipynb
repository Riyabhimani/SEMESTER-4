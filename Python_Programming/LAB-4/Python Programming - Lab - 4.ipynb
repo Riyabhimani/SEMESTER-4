{
 "cells": [
  {
   "cell_type": "markdown",
   "metadata": {},
   "source": [
    "\n",
    "<a href='https://www.darshan.ac.in/'> <img src='https://www.darshan.ac.in/Content/media/DU_Logo.svg' width=\"250\" height=\"300\"/></a>\n",
    "<pre>\n",
    "<center><b><h1>Python Programming - 2301CS404</b></center>\n",
    "<center><b><h1>Lab - 4</b></center>\n",
    "<center><b><h1>Riya Bhimani | 23010101030 | 16/12/2024 </b></center> \n",
    "<pre>"
   ]
  },
  {
   "cell_type": "markdown",
   "metadata": {},
   "source": [
    "# String"
   ]
  },
  {
   "cell_type": "markdown",
   "metadata": {},
   "source": [
    "### 01) WAP to check whether the given string is palindrome or not."
   ]
  },
  {
   "cell_type": "code",
   "execution_count": 4,
   "metadata": {},
   "outputs": [
    {
     "name": "stdin",
     "output_type": "stream",
     "text": [
      "Enter a String :  RIYA\n"
     ]
    },
    {
     "name": "stdout",
     "output_type": "stream",
     "text": [
      "RIYA  is not Palindrome!!\n"
     ]
    }
   ],
   "source": [
    "a = input(\"Enter a String : \")\n",
    "b = a[::-1]\n",
    "if(a==b):\n",
    "    print(a , \" is Palindrome!!\")\n",
    "else:\n",
    "    print(a , \" is not Palindrome!!\")"
   ]
  },
  {
   "cell_type": "markdown",
   "metadata": {},
   "source": [
    "### 02) WAP to reverse the words in the given string."
   ]
  },
  {
   "cell_type": "code",
   "execution_count": 5,
   "metadata": {},
   "outputs": [
    {
     "name": "stdout",
     "output_type": "stream",
     "text": [
      "Bhimani Riya\n"
     ]
    }
   ],
   "source": [
    "str = \"Riya Bhimani\"\n",
    "str1 = str.split(' ')\n",
    "str2 = str1[::-1]\n",
    "str3 = ' '.join(str2)\n",
    "print(str3)"
   ]
  },
  {
   "cell_type": "markdown",
   "metadata": {},
   "source": [
    "### 03) WAP to remove ith character from given string."
   ]
  },
  {
   "cell_type": "code",
   "execution_count": 23,
   "metadata": {},
   "outputs": [
    {
     "name": "stdin",
     "output_type": "stream",
     "text": [
      "Enter the string:  riya\n",
      "Enter the position of the character to remove:  2\n"
     ]
    },
    {
     "name": "stdout",
     "output_type": "stream",
     "text": [
      "String after removing the character: ria\n"
     ]
    }
   ],
   "source": [
    "s = input(\"Enter the string: \")\n",
    "i = int(input(\"Enter the position of the character to remove: \"))\n",
    "if 0 <= i < len(s): \n",
    "    result = s[:i] + s[i+1:]\n",
    "    print(\"String after removing the character:\", result)\n",
    "else:\n",
    "    print(\"Invalid position!\")"
   ]
  },
  {
   "cell_type": "markdown",
   "metadata": {},
   "source": [
    "### 04) WAP to find length of string without using len function."
   ]
  },
  {
   "cell_type": "code",
   "execution_count": 8,
   "metadata": {},
   "outputs": [
    {
     "name": "stdin",
     "output_type": "stream",
     "text": [
      "Enter a String :  Riya\n"
     ]
    },
    {
     "name": "stdout",
     "output_type": "stream",
     "text": [
      "Length of  Riya  =  4\n"
     ]
    }
   ],
   "source": [
    "str1 = input(\"Enter a String : \")\n",
    "count=0\n",
    "for i in str1:\n",
    "    count+=1\n",
    "print(\"Length of \" , str1 , \" = \" , count)"
   ]
  },
  {
   "cell_type": "markdown",
   "metadata": {},
   "source": [
    "### 05) WAP to print even length word in string."
   ]
  },
  {
   "cell_type": "code",
   "execution_count": 12,
   "metadata": {},
   "outputs": [
    {
     "name": "stdin",
     "output_type": "stream",
     "text": [
      "Enter a String :  Bhimani Riya\n"
     ]
    },
    {
     "name": "stdout",
     "output_type": "stream",
     "text": [
      "Riya\n"
     ]
    }
   ],
   "source": [
    "str = input(\"Enter a String : \")\n",
    "str1 = str.split()\n",
    "for i in str1:\n",
    "    if len(i)%2==0:\n",
    "        print(i)"
   ]
  },
  {
   "cell_type": "markdown",
   "metadata": {},
   "source": [
    "### 06) WAP to count numbers of vowels in given string."
   ]
  },
  {
   "cell_type": "code",
   "execution_count": 50,
   "metadata": {},
   "outputs": [
    {
     "name": "stdin",
     "output_type": "stream",
     "text": [
      "Enter a String :  Bhimani\n"
     ]
    },
    {
     "name": "stdout",
     "output_type": "stream",
     "text": [
      "3\n"
     ]
    }
   ],
   "source": [
    "str1 = input(\"Enter a String : \")\n",
    "count=0\n",
    "for i in str1:\n",
    "    if 'a' in i or 'e' in i or 'i' in i or 'o' in i or 'u' in i:\n",
    "        count+=1\n",
    "print(count)"
   ]
  },
  {
   "cell_type": "markdown",
   "metadata": {},
   "source": [
    "### 07) WAP to capitalize the first and last character of each word in a string."
   ]
  },
  {
   "cell_type": "code",
   "execution_count": 26,
   "metadata": {},
   "outputs": [
    {
     "name": "stdin",
     "output_type": "stream",
     "text": [
      "Enter a string:  bhimani\n"
     ]
    },
    {
     "name": "stdout",
     "output_type": "stream",
     "text": [
      "Modified string: BhimanI\n"
     ]
    }
   ],
   "source": [
    "s = input(\"Enter a string: \")\n",
    "words = s.split()\n",
    "result = []\n",
    "for word in words:\n",
    "    if len(word) > 1:\n",
    "        word = word[0].upper() + word[1:-1] + word[-1].upper()\n",
    "    else:\n",
    "        word = word.upper()\n",
    "    \n",
    "    result.append(word)\n",
    "\n",
    "final_result = \" \".join(result)\n",
    "print(\"Modified string:\", final_result)"
   ]
  },
  {
   "cell_type": "markdown",
   "metadata": {},
   "source": [
    "### 08) WAP to convert given array to string."
   ]
  },
  {
   "cell_type": "code",
   "execution_count": 14,
   "metadata": {},
   "outputs": [
    {
     "name": "stdout",
     "output_type": "stream",
     "text": [
      "Hello World from me\n"
     ]
    }
   ],
   "source": [
    "arr = [\"Hello\", \"World\", \"from\", \"me\"]\n",
    "result = \" \".join(arr)\n",
    "print(result)"
   ]
  },
  {
   "cell_type": "markdown",
   "metadata": {},
   "source": [
    "### 09) Check if the password and confirm password is same or not. \n",
    "### In case of only case's mistake, show the error message."
   ]
  },
  {
   "cell_type": "code",
   "execution_count": 16,
   "metadata": {},
   "outputs": [
    {
     "name": "stdin",
     "output_type": "stream",
     "text": [
      "Enter a Password: Riya \n",
      "Enter a ComfirmPassword: Bhimani\n"
     ]
    },
    {
     "name": "stdout",
     "output_type": "stream",
     "text": [
      "Invalid Password\n"
     ]
    }
   ],
   "source": [
    "Password = input(\"Enter a Password:\")\n",
    "ComfirmPassword = input(\"Enter a ComfirmPassword:\")\n",
    "if Password == ComfirmPassword:\n",
    "    print(\"Password Matched\")\n",
    "elif Password.lower() == ComfirmPassword.lower():\n",
    "    print(\"Case Mistake\")\n",
    "else:\n",
    "    print(\"Invalid Password\")"
   ]
  },
  {
   "cell_type": "markdown",
   "metadata": {},
   "source": [
    "### 10) : Display credit card number. \n",
    "### card no. : 1234 5678 9012 3456\n",
    "### display as  : **** **** **** 3456"
   ]
  },
  {
   "cell_type": "code",
   "execution_count": 1,
   "metadata": {},
   "outputs": [
    {
     "name": "stdout",
     "output_type": "stream",
     "text": [
      "**** **** **** 3456\n"
     ]
    }
   ],
   "source": [
    "CardNo = \"1234 5678 9012 3456\"\n",
    "Li = CardNo.split()\n",
    "Output = \"**** **** **** \" + Li[3]\n",
    "print(Output)"
   ]
  },
  {
   "cell_type": "code",
   "execution_count": 6,
   "metadata": {},
   "outputs": [
    {
     "name": "stdout",
     "output_type": "stream",
     "text": [
      "**** **** **** 3456\n"
     ]
    }
   ],
   "source": [
    "CardNo = \"1234 5678 9012 3456\"\n",
    "Output = \"**** **** **** \" + CardNo[-4:]\n",
    "print(Output)"
   ]
  },
  {
   "cell_type": "markdown",
   "metadata": {},
   "source": [
    "### 11) : Checking if the two strings are Anagram or not.\n",
    "### s1 = decimal and s2 = medical are Anagram"
   ]
  },
  {
   "cell_type": "code",
   "execution_count": 12,
   "metadata": {},
   "outputs": [
    {
     "name": "stdout",
     "output_type": "stream",
     "text": [
      "The strings are Anagrams.\n"
     ]
    }
   ],
   "source": [
    "s1 = \"decimal\"\n",
    "s2 = \"medical\"\n",
    "if len(s1) != len(s2):\n",
    "    print(\"The strings are not Anagrams.\")\n",
    "else:\n",
    "    if sorted(s1) == sorted(s2):\n",
    "        print(\"The strings are Anagrams.\")\n",
    "    else:\n",
    "        print(\"The strings are not Anagrams.\")"
   ]
  },
  {
   "cell_type": "markdown",
   "metadata": {},
   "source": [
    "### 12) : Rearrange the given string. First lowercase then uppercase alphabets.\n",
    "### input : EHlsarwiwhtwMV\n",
    "### output : lsarwiwhtwEHMV"
   ]
  },
  {
   "cell_type": "code",
   "execution_count": 18,
   "metadata": {},
   "outputs": [
    {
     "name": "stdin",
     "output_type": "stream",
     "text": [
      "Enter a String :  EHlsarwiwhtwMV\n"
     ]
    },
    {
     "name": "stdout",
     "output_type": "stream",
     "text": [
      "lsarwiwhtwEHMV\n"
     ]
    }
   ],
   "source": [
    "str = input(\"Enter a String : \")\n",
    "str1=''\n",
    "str2=''\n",
    "for i in str:\n",
    "    if i.islower():\n",
    "        str1+=i\n",
    "    else:\n",
    "        str2+=i\n",
    "str3 = str1 + str2\n",
    "print(str3)"
   ]
  }
 ],
 "metadata": {
  "kernelspec": {
   "display_name": "Python 3 (ipykernel)",
   "language": "python",
   "name": "python3"
  },
  "language_info": {
   "codemirror_mode": {
    "name": "ipython",
    "version": 3
   },
   "file_extension": ".py",
   "mimetype": "text/x-python",
   "name": "python",
   "nbconvert_exporter": "python",
   "pygments_lexer": "ipython3",
   "version": "3.12.7"
  },
  "vscode": {
   "interpreter": {
    "hash": "31f2aee4e71d21fbe5cf8b01ff0e069b9275f58929596ceb00d14d90e3e16cd6"
   }
  }
 },
 "nbformat": 4,
 "nbformat_minor": 4
}
