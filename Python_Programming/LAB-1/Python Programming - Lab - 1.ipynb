{
 "cells": [
  {
   "cell_type": "markdown",
   "metadata": {},
   "source": [
    "<a href='https://www.darshan.ac.in/'> <img src='https://www.darshan.ac.in/Content/media/DU_Logo.svg' width=\"250\" height=\"10\"/></a>\n",
    "<pre>\n",
    "<center><b><h1>Python Programming - 2301CS404</b></center>\n",
    "<center><b><h1>Lab - 1</b></center> \n",
    "<center><b><h1>Riya Bhimani | 23010101030 | 25-11-2024</b></center>  \n",
    "<pre>"
   ]
  },
  {
   "cell_type": "markdown",
   "metadata": {},
   "source": [
    "### 01) WAP to print “Hello World”"
   ]
  },
  {
   "cell_type": "code",
   "execution_count": 1,
   "metadata": {},
   "outputs": [
    {
     "name": "stdout",
     "output_type": "stream",
     "text": [
      "Hello World\n"
     ]
    }
   ],
   "source": [
    "print('Hello World')"
   ]
  },
  {
   "cell_type": "markdown",
   "metadata": {},
   "source": [
    "### 02) WAP to print addition of two numbers with and without using input()."
   ]
  },
  {
   "cell_type": "code",
   "execution_count": 2,
   "metadata": {},
   "outputs": [
    {
     "name": "stdout",
     "output_type": "stream",
     "text": [
      "3\n",
      "Enter First Number c: 3\n",
      "Enter Second Number d: 4\n",
      "7\n"
     ]
    }
   ],
   "source": [
    "a,b = 1,2 \n",
    "print(a+b)\n",
    "\n",
    "c=int(input('Enter First Number c: '))\n",
    "d=int(input('Enter Second Number d: '))\n",
    "print(c+d)"
   ]
  },
  {
   "cell_type": "markdown",
   "metadata": {},
   "source": [
    "### 03) WAP to check the type of the variable."
   ]
  },
  {
   "cell_type": "code",
   "execution_count": 4,
   "metadata": {},
   "outputs": [
    {
     "name": "stdout",
     "output_type": "stream",
     "text": [
      "<class 'int'>\n",
      "Enter input:Riya\n",
      "<class 'str'>\n"
     ]
    }
   ],
   "source": [
    "a=5\n",
    "print(type(a))\n",
    "\n",
    "b=input('Enter input:')\n",
    "print(type(b))"
   ]
  },
  {
   "cell_type": "markdown",
   "metadata": {},
   "source": [
    "### 04) WAP to calculate simple interest."
   ]
  },
  {
   "cell_type": "code",
   "execution_count": 6,
   "metadata": {},
   "outputs": [
    {
     "name": "stdout",
     "output_type": "stream",
     "text": [
      "Enter P:10\n",
      "Enter R:10\n",
      "Enter N:10\n",
      "10.0\n"
     ]
    }
   ],
   "source": [
    "P=float(input('Enter P:'))\n",
    "R=float(input('Enter R:'))\n",
    "N=float(input('Enter N:'))\n",
    "\n",
    "I=(P*R*N)/100\n",
    "print(I)"
   ]
  },
  {
   "cell_type": "markdown",
   "metadata": {},
   "source": [
    "### 05) WAP to calculate area and perimeter of a circle."
   ]
  },
  {
   "cell_type": "code",
   "execution_count": 10,
   "metadata": {},
   "outputs": [
    {
     "name": "stdout",
     "output_type": "stream",
     "text": [
      "Enter radius of a circle:3\n",
      "Area = 28.259999999999998\n",
      "Perimeter = 18.84\n"
     ]
    }
   ],
   "source": [
    "R=float(input('Enter radius of a circle:'))\n",
    "\n",
    "Area = 3.14*R*R\n",
    "print('Area =',Area)\n",
    "\n",
    "Perimeter = 2*3.14*R\n",
    "print('Perimeter =',Perimeter)"
   ]
  },
  {
   "cell_type": "markdown",
   "metadata": {},
   "source": [
    "### 06) WAP to calculate area of a triangle."
   ]
  },
  {
   "cell_type": "code",
   "execution_count": 11,
   "metadata": {},
   "outputs": [
    {
     "name": "stdout",
     "output_type": "stream",
     "text": [
      "Enter Height : 2\n",
      "Enter Base : 4\n",
      "Area =  4.0\n"
     ]
    }
   ],
   "source": [
    "H = float(input('Enter Height : '))\n",
    "B = float(input('Enter Base : '))\n",
    "\n",
    "Area = 0.5*H*B\n",
    "print('Area = ',Area)"
   ]
  },
  {
   "cell_type": "markdown",
   "metadata": {},
   "source": [
    "### 07) WAP to compute quotient and remainder."
   ]
  },
  {
   "cell_type": "code",
   "execution_count": 1,
   "metadata": {},
   "outputs": [
    {
     "name": "stdout",
     "output_type": "stream",
     "text": [
      "Quotient: 6\n",
      "Remainder: 2\n"
     ]
    }
   ],
   "source": [
    "a = 20\n",
    "b = 3\n",
    "\n",
    "quotient = a // b\n",
    "remainder = a % b\n",
    "\n",
    "print(\"Quotient:\", quotient)\n",
    "print(\"Remainder:\", remainder)"
   ]
  },
  {
   "cell_type": "markdown",
   "metadata": {},
   "source": [
    "### 08) WAP to convert degree into Fahrenheit and vice versa."
   ]
  },
  {
   "cell_type": "code",
   "execution_count": 8,
   "metadata": {},
   "outputs": [
    {
     "name": "stdin",
     "output_type": "stream",
     "text": [
      "Enter temperature:  355\n",
      "Convert from (C)elsius to Fahrenheit or (F)ahrenheit to Celsius? (C/F):  F\n"
     ]
    },
    {
     "name": "stdout",
     "output_type": "stream",
     "text": [
      "355.0 Fahrenheit is equal to 179.44444444444446 Celsius.\n"
     ]
    }
   ],
   "source": [
    "temp = float(input(\"Enter temperature: \"))\n",
    "choice = input(\"Convert from (C)elsius to Fahrenheit or (F)ahrenheit to Celsius? (C/F): \").upper()\n",
    "\n",
    "if choice == \"C\":\n",
    "    fahrenheit = (temp * 9/5) + 32\n",
    "    print(f\"{temp} Celsius is equal to {fahrenheit} Fahrenheit.\")\n",
    "elif choice == \"F\":\n",
    "    celsius = (temp - 32) * 5/9\n",
    "    print(f\"{temp} Fahrenheit is equal to {celsius} Celsius.\")\n",
    "else:\n",
    "    print(\"Invalid choice! Please enter either 'C' or 'F'.\")"
   ]
  },
  {
   "cell_type": "markdown",
   "metadata": {},
   "source": [
    "### 09) WAP to find the distance between two points in 2-D space."
   ]
  },
  {
   "cell_type": "code",
   "execution_count": 26,
   "metadata": {},
   "outputs": [
    {
     "name": "stdin",
     "output_type": "stream",
     "text": [
      "Enter coordinates of the first point (x1, y1):  1 2\n",
      "Enter coordinates of the second point (x2, y2):  3 4\n"
     ]
    },
    {
     "name": "stdout",
     "output_type": "stream",
     "text": [
      "The distance between the points is: 2.8284271247461903\n"
     ]
    }
   ],
   "source": [
    "import math\n",
    "x1, y1 = map(float, input(\"Enter coordinates of the first point (x1, y1): \").split())\n",
    "x2, y2 = map(float, input(\"Enter coordinates of the second point (x2, y2): \").split())\n",
    "\n",
    "distance = math.sqrt((x2 - x1)**2 + (y2 - y1)**2)\n",
    "\n",
    "print(\"The distance between the points is:\", distance)"
   ]
  },
  {
   "cell_type": "markdown",
   "metadata": {},
   "source": [
    "### 10) WAP to print sum of n natural numbers."
   ]
  },
  {
   "cell_type": "code",
   "execution_count": 9,
   "metadata": {},
   "outputs": [
    {
     "name": "stdin",
     "output_type": "stream",
     "text": [
      "Enter a number:  5\n"
     ]
    },
    {
     "name": "stdout",
     "output_type": "stream",
     "text": [
      "Sum of the first 5 natural numbers is: 15\n"
     ]
    }
   ],
   "source": [
    "n = int(input(\"Enter a number: \"))\n",
    "\n",
    "sumOfn = n * (n + 1) // 2 \n",
    "\n",
    "print(\"Sum of the first\", n, \"natural numbers is:\", sumOfn)"
   ]
  },
  {
   "cell_type": "markdown",
   "metadata": {},
   "source": [
    "### 11) WAP to print sum of square of n natural numbers."
   ]
  },
  {
   "cell_type": "code",
   "execution_count": 12,
   "metadata": {},
   "outputs": [
    {
     "name": "stdin",
     "output_type": "stream",
     "text": [
      "Enter a number:  3\n"
     ]
    },
    {
     "name": "stdout",
     "output_type": "stream",
     "text": [
      "Sum of the first 3 natural numbers is: 14\n"
     ]
    }
   ],
   "source": [
    "n = int(input(\"Enter a number: \"))\n",
    "\n",
    "sumOfsquareOfn = n * (n+1) * (2*n+1) // 6\n",
    "\n",
    "print(\"Sum of the first\", n, \"natural numbers is:\", sumOfsquareOfn)"
   ]
  },
  {
   "cell_type": "markdown",
   "metadata": {},
   "source": [
    "### 12) WAP to concate the first and last name of the student."
   ]
  },
  {
   "cell_type": "code",
   "execution_count": 17,
   "metadata": {},
   "outputs": [
    {
     "name": "stdin",
     "output_type": "stream",
     "text": [
      "Enter a First Name:  Riya\n",
      "Enter a Last Name:  Bhimani\n"
     ]
    },
    {
     "name": "stdout",
     "output_type": "stream",
     "text": [
      "First Name is Riya and Last Name is Bhimani\n"
     ]
    }
   ],
   "source": [
    "FirstName = (input(\"Enter a First Name: \"))\n",
    "LastName = (input(\"Enter a Last Name: \"))\n",
    "print(\"First Name is\",FirstName,\"and Last Name is\",LastName)"
   ]
  },
  {
   "cell_type": "markdown",
   "metadata": {},
   "source": [
    "### 13) WAP to swap two numbers."
   ]
  },
  {
   "cell_type": "code",
   "execution_count": 20,
   "metadata": {},
   "outputs": [
    {
     "name": "stdin",
     "output_type": "stream",
     "text": [
      "Enter a number a :  2\n",
      "Enter a number b :  3\n"
     ]
    },
    {
     "name": "stdout",
     "output_type": "stream",
     "text": [
      "a =  3\n",
      "b =  2\n"
     ]
    }
   ],
   "source": [
    "a = int(input(\"Enter a number a : \"))\n",
    "b = int(input(\"Enter a number b : \"))\n",
    "temp=0\n",
    "temp=a\n",
    "a=b\n",
    "b=temp\n",
    "print(\"a = \",a)\n",
    "print(\"b = \",b)"
   ]
  },
  {
   "cell_type": "markdown",
   "metadata": {},
   "source": [
    "### 14) WAP to get the distance from user into kilometer, and convert it into meter, feet, inches and centimeter."
   ]
  },
  {
   "cell_type": "code",
   "execution_count": 21,
   "metadata": {},
   "outputs": [
    {
     "name": "stdin",
     "output_type": "stream",
     "text": [
      "Enter the distance in kilometers:  5\n"
     ]
    },
    {
     "name": "stdout",
     "output_type": "stream",
     "text": [
      "5.0 kilometers is equal to:\n",
      "5000.0 meters\n",
      "16404.2 feet\n",
      "196850.5 inches\n",
      "500000.0 centimeters\n"
     ]
    }
   ],
   "source": [
    "kilometers = float(input(\"Enter the distance in kilometers: \"))\n",
    "\n",
    "meters = kilometers * 1000 \n",
    "feet = kilometers * 3280.84  \n",
    "inches = kilometers * 39370.1 \n",
    "centimeters = kilometers * 100000 \n",
    "\n",
    "\n",
    "print(kilometers,\"kilometers is equal to:\")\n",
    "print(meters,\"meters\")\n",
    "print(feet,\"feet\")\n",
    "print(inches,\"inches\")\n",
    "print(centimeters,\"centimeters\")"
   ]
  },
  {
   "cell_type": "markdown",
   "metadata": {},
   "source": [
    "### 15) WAP to get day, month and year from the user and print the date in the given format: 23-11-2024."
   ]
  },
  {
   "cell_type": "code",
   "execution_count": 22,
   "metadata": {},
   "outputs": [
    {
     "name": "stdin",
     "output_type": "stream",
     "text": [
      "Enter a day :  23\n",
      "Enter a month :  11\n",
      "Enter a year :  2024\n"
     ]
    },
    {
     "name": "stdout",
     "output_type": "stream",
     "text": [
      "23 - 11 - 2024\n"
     ]
    }
   ],
   "source": [
    "day = int(input(\"Enter a day : \"))\n",
    "month = int(input(\"Enter a month : \"))\n",
    "year = int(input(\"Enter a year : \"))\n",
    "print(day,\"-\",month,\"-\",year)"
   ]
  }
 ],
 "metadata": {
  "kernelspec": {
   "display_name": "Python 3 (ipykernel)",
   "language": "python",
   "name": "python3"
  },
  "language_info": {
   "codemirror_mode": {
    "name": "ipython",
    "version": 3
   },
   "file_extension": ".py",
   "mimetype": "text/x-python",
   "name": "python",
   "nbconvert_exporter": "python",
   "pygments_lexer": "ipython3",
   "version": "3.12.7"
  },
  "vscode": {
   "interpreter": {
    "hash": "31f2aee4e71d21fbe5cf8b01ff0e069b9275f58929596ceb00d14d90e3e16cd6"
   }
  }
 },
 "nbformat": 4,
 "nbformat_minor": 4
}
