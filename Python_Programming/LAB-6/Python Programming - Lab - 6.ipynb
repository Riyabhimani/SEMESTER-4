{
 "cells": [
  {
   "attachments": {},
   "cell_type": "markdown",
   "metadata": {},
   "source": [
    "<a href='https://www.darshan.ac.in/'> <img src='https://www.darshan.ac.in/Content/media/DU_Logo.svg' width=\"250\" height=\"300\"/></a>\n",
    "<pre>\n",
    "<center><b><h1>Python Programming - 2301CS404</b></center>\n",
    "<center><b><h1>Lab-6</b></center> \n",
    "<center><b><h1>Riya Bhimani | 23010101030 | 30-12-2024</b></center>    \n",
    "<pre>"
   ]
  },
  {
   "cell_type": "markdown",
   "metadata": {},
   "source": [
    "# Tuple"
   ]
  },
  {
   "cell_type": "markdown",
   "metadata": {},
   "source": [
    "### 01) WAP to find sum of tuple elements."
   ]
  },
  {
   "cell_type": "code",
   "execution_count": 7,
   "metadata": {},
   "outputs": [
    {
     "name": "stdout",
     "output_type": "stream",
     "text": [
      "15\n"
     ]
    }
   ],
   "source": [
    "t1 = (1,2,3,4,5)\n",
    "sum=0\n",
    "for i in t1:\n",
    "    sum = sum+i\n",
    "print(sum)"
   ]
  },
  {
   "cell_type": "markdown",
   "metadata": {},
   "source": [
    "### 02) WAP to find Maximum and Minimum K elements in a given tuple."
   ]
  },
  {
   "cell_type": "code",
   "execution_count": 2,
   "metadata": {},
   "outputs": [
    {
     "name": "stdout",
     "output_type": "stream",
     "text": [
      "Minimum K elements: [5, 7, 10]\n",
      "Maximum K elements: [20, 25, 30]\n"
     ]
    }
   ],
   "source": [
    "data = (10, 20, 5, 7, 30, 15, 25)\n",
    "K = 3\n",
    "sorted_data = sorted(data)\n",
    "min_k_elements = sorted_data[:K] # [:k] This means \"slice from the start of the list up to (but not including) index k.\"\n",
    "max_k_elements = sorted_data[-K:] # [-k:] This means \"slice from index -k (kth element from the end) to the end of the list.\"\n",
    "print(\"Minimum K elements:\", min_k_elements)\n",
    "print(\"Maximum K elements:\", max_k_elements)"
   ]
  },
  {
   "cell_type": "markdown",
   "metadata": {},
   "source": [
    "### 03) WAP to find tuples which have all elements divisible by K from a list of tuples."
   ]
  },
  {
   "cell_type": "code",
   "execution_count": 83,
   "metadata": {},
   "outputs": [
    {
     "name": "stdin",
     "output_type": "stream",
     "text": [
      "Enter K: 2\n"
     ]
    },
    {
     "name": "stdout",
     "output_type": "stream",
     "text": [
      "(10, 20, 30)\n"
     ]
    }
   ],
   "source": [
    "t1 = (10,20,30)\n",
    "t2 = (3,6,9)\n",
    "t3 = (7,14,21)\n",
    "l = [t1,t2,t3]\n",
    "k = int(input(\"Enter K:\"))\n",
    "for i in l:\n",
    "    count = 0\n",
    "    for j in i:\n",
    "        if j%k==0:\n",
    "            count = count+1\n",
    "        if count == len(i):\n",
    "            print(i)"
   ]
  },
  {
   "cell_type": "markdown",
   "metadata": {},
   "source": [
    "### 04) WAP to create a list of tuples from given list having number and its cube in each tuple."
   ]
  },
  {
   "cell_type": "code",
   "execution_count": 78,
   "metadata": {},
   "outputs": [
    {
     "name": "stdout",
     "output_type": "stream",
     "text": [
      "[(1, 1), (2, 8), (3, 27), (4, 64), (5, 125)]\n"
     ]
    }
   ],
   "source": [
    "Li=[1,2,3,4,5]\n",
    "ans = [(i,i**3) for i in Li]\n",
    "print(ans)"
   ]
  },
  {
   "cell_type": "markdown",
   "metadata": {},
   "source": [
    "### 05) WAP to find tuples with all positive elements from the given list of tuples."
   ]
  },
  {
   "cell_type": "code",
   "execution_count": 79,
   "metadata": {},
   "outputs": [
    {
     "name": "stdout",
     "output_type": "stream",
     "text": [
      "(10, 20, 30)\n"
     ]
    }
   ],
   "source": [
    "t1 = (10,20,30)\n",
    "t2 = (3,6,-9)\n",
    "t3 = (7,-14,21)\n",
    "l = [t1,t2,t3]\n",
    "for i in l:\n",
    "    count=0\n",
    "    for j in i:\n",
    "        if j>0:\n",
    "            count=count+1\n",
    "    if count==len(i):\n",
    "        print(i)"
   ]
  },
  {
   "cell_type": "markdown",
   "metadata": {},
   "source": [
    "### 06) WAP to add tuple to list and vice – versa."
   ]
  },
  {
   "cell_type": "code",
   "execution_count": 18,
   "metadata": {},
   "outputs": [
    {
     "name": "stdout",
     "output_type": "stream",
     "text": [
      "[7, 8, 9, 10, (1, 2, 3)]\n"
     ]
    }
   ],
   "source": [
    "t=(1,2,3)\n",
    "l=[7,8,9,10]\n",
    "l.append(t)\n",
    "print(l)"
   ]
  },
  {
   "cell_type": "code",
   "execution_count": 22,
   "metadata": {},
   "outputs": [
    {
     "name": "stdout",
     "output_type": "stream",
     "text": [
      "(1, 2, 3, [7, 8, 9, 10])\n"
     ]
    }
   ],
   "source": [
    "t=(1,2,3)\n",
    "l=[7,8,9,10]\n",
    "c_t = t + (l,)\n",
    "print(c_t)"
   ]
  },
  {
   "cell_type": "markdown",
   "metadata": {},
   "source": [
    "### 07) WAP to remove tuples of length K."
   ]
  },
  {
   "cell_type": "code",
   "execution_count": 2,
   "metadata": {},
   "outputs": [
    {
     "name": "stdout",
     "output_type": "stream",
     "text": [
      "Filtered list: [(3, 4, 5), (7, 8, 9, 10)]\n"
     ]
    }
   ],
   "source": [
    "tuples_list = [(1, 2), (3, 4, 5), (7, 8, 9, 10), (11, 12)]\n",
    "K = 2  \n",
    "\n",
    "filtered_list = []\n",
    "for t in tuples_list:\n",
    "    count = 0\n",
    "    for _ in t: \n",
    "        count += 1\n",
    "    if count != K: \n",
    "        filtered_list.append(t)\n",
    "        \n",
    "print(\"Filtered list:\", filtered_list)\n",
    "\n",
    "#[[The underscore (_) is a conventional placeholder name in Python for a variable whose value is not used.\n",
    "#It tells readers and Python itself that the loop variable is not important in this context.]]"
   ]
  },
  {
   "cell_type": "markdown",
   "metadata": {},
   "source": [
    "### 08) WAP to remove duplicates from tuple."
   ]
  },
  {
   "cell_type": "code",
   "execution_count": 37,
   "metadata": {},
   "outputs": [
    {
     "name": "stdout",
     "output_type": "stream",
     "text": [
      "Tuple after removing duplicates: (1, 2, 3, 4, 5, 6, 7)\n"
     ]
    }
   ],
   "source": [
    "my_tuple = (1, 2, 3, 2, 4, 5, 3, 6, 7)\n",
    "unique_tuple = tuple(set(my_tuple))\n",
    "print(\"Tuple after removing duplicates:\", unique_tuple)"
   ]
  },
  {
   "cell_type": "markdown",
   "metadata": {},
   "source": [
    "### 09) WAP to multiply adjacent elements of a tuple and print that resultant tuple."
   ]
  },
  {
   "cell_type": "code",
   "execution_count": 40,
   "metadata": {},
   "outputs": [
    {
     "name": "stdout",
     "output_type": "stream",
     "text": [
      "Resultant tuple after multiplying adjacent elements: (6, 12, 20)\n"
     ]
    }
   ],
   "source": [
    "my_tuple = (2, 3, 4, 5)\n",
    "result = [my_tuple[i] * my_tuple[i + 1] for i in range(len(my_tuple) - 1)]\n",
    "result_tuple = tuple(result)\n",
    "print(\"Resultant tuple after multiplying adjacent elements:\", result_tuple)"
   ]
  },
  {
   "cell_type": "markdown",
   "metadata": {},
   "source": [
    "### 10) WAP to test if the given tuple is distinct or not."
   ]
  },
  {
   "cell_type": "code",
   "execution_count": 1,
   "metadata": {},
   "outputs": [
    {
     "name": "stdout",
     "output_type": "stream",
     "text": [
      "Not distinct\n"
     ]
    }
   ],
   "source": [
    "my_tuple = (2, 3, 4, 5, 5)\n",
    "flag = True\n",
    "for i in my_tuple:\n",
    "    if my_tuple.count(i) != 1:\n",
    "        flag = False\n",
    "        break\n",
    "if flag == False:\n",
    "    print(\"Not distinct\")\n",
    "else:\n",
    "    print(\"Distinct\")"
   ]
  }
 ],
 "metadata": {
  "kernelspec": {
   "display_name": "Python 3 (ipykernel)",
   "language": "python",
   "name": "python3"
  },
  "language_info": {
   "codemirror_mode": {
    "name": "ipython",
    "version": 3
   },
   "file_extension": ".py",
   "mimetype": "text/x-python",
   "name": "python",
   "nbconvert_exporter": "python",
   "pygments_lexer": "ipython3",
   "version": "3.12.7"
  }
 },
 "nbformat": 4,
 "nbformat_minor": 4
}
