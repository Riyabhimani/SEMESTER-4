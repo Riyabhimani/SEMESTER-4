{
 "cells": [
  {
   "attachments": {},
   "cell_type": "markdown",
   "metadata": {},
   "source": [
    "<a href='https://www.darshan.ac.in/'> <img src='https://www.darshan.ac.in/Content/media/DU_Logo.svg' width=\"250\" height=\"300\"/></a>\n",
    "<pre>\n",
    "<center><b><h1>Python Programming - 2301CS404</b></center>\n",
    "<center><b><h1>Lab - 11</b></center>\n",
    "<center><b><h1>Riya Bhimani | 23010101030 | 10-02-2025</b></center>\n",
    "<pre>"
   ]
  },
  {
   "cell_type": "markdown",
   "metadata": {},
   "source": [
    "# Modules"
   ]
  },
  {
   "cell_type": "markdown",
   "metadata": {},
   "source": [
    "### 01) WAP to create Calculator module which defines functions like add, sub,mul and div. \n",
    "### Create another .py file that uses the functions available in Calculator module."
   ]
  },
  {
   "cell_type": "code",
   "execution_count": 11,
   "metadata": {},
   "outputs": [
    {
     "name": "stdin",
     "output_type": "stream",
     "text": [
      "Enter number 1 : 12\n",
      "Enter number 2 : 4\n"
     ]
    },
    {
     "name": "stdout",
     "output_type": "stream",
     "text": [
      "Addition =  16\n",
      "Subtraction =  8\n",
      "Multiplication =  48\n",
      "Division =  0\n"
     ]
    }
   ],
   "source": [
    "import Calculator\n",
    "\n",
    "num1 = int(input(\"Enter number 1 :\"))\n",
    "num2 = int(input(\"Enter number 2 :\"))\n",
    "\n",
    "print(\"Addition = \",Calculator.Addition(num1,num2))\n",
    "print(\"Subtraction = \",Calculator.Subtraction(num1,num2))\n",
    "print(\"Multiplication = \",Calculator.Multiplication(num1,num2))\n",
    "print(\"Division = \",Calculator.Division(num1,num2))"
   ]
  },
  {
   "cell_type": "markdown",
   "metadata": {},
   "source": [
    "### 02) WAP to pick a random character from a given String."
   ]
  },
  {
   "cell_type": "code",
   "execution_count": 7,
   "metadata": {},
   "outputs": [
    {
     "name": "stdin",
     "output_type": "stream",
     "text": [
      "Enter a String:  riya\n"
     ]
    },
    {
     "name": "stdout",
     "output_type": "stream",
     "text": [
      "Random Character of Given String =  i\n"
     ]
    }
   ],
   "source": [
    "import random\n",
    "s = input(\"Enter a String: \")\n",
    "i = random.randrange(0,len(s))\n",
    "print(\"Random Character of Given String = \",s[i])"
   ]
  },
  {
   "cell_type": "markdown",
   "metadata": {},
   "source": [
    "### 03) WAP to pick a random element from a given list."
   ]
  },
  {
   "cell_type": "code",
   "execution_count": 8,
   "metadata": {},
   "outputs": [
    {
     "name": "stdout",
     "output_type": "stream",
     "text": [
      "Random Element of Given List =  5\n"
     ]
    }
   ],
   "source": [
    "l1=[1,2,3,4,5]\n",
    "randomelement = random.choice(l1)\n",
    "print(\"Random Element of Given List = \",randomelement)"
   ]
  },
  {
   "cell_type": "markdown",
   "metadata": {},
   "source": [
    "### 04) WAP to roll a dice in such a way that every time you get the same number."
   ]
  },
  {
   "cell_type": "code",
   "execution_count": 9,
   "metadata": {},
   "outputs": [
    {
     "name": "stdout",
     "output_type": "stream",
     "text": [
      "Random same number= 2\n"
     ]
    }
   ],
   "source": [
    "import random\n",
    "random.seed(3)\n",
    "print(\"Random same number=\",random.randint(1,6))"
   ]
  },
  {
   "cell_type": "markdown",
   "metadata": {},
   "source": [
    "### 05) WAP to generate 3 random integers between 100 and 999 which is divisible by 5."
   ]
  },
  {
   "cell_type": "code",
   "execution_count": 10,
   "metadata": {},
   "outputs": [
    {
     "name": "stdout",
     "output_type": "stream",
     "text": [
      "Random Integer =  855\n",
      "Random Integer =  795\n",
      "Random Integer =  265\n"
     ]
    }
   ],
   "source": [
    "import random\n",
    "for i in range(0,3):\n",
    "    Random_Integer = random.randrange(100,999,5)\n",
    "    print(\"Random Integer = \",Random_Integer)"
   ]
  },
  {
   "cell_type": "markdown",
   "metadata": {},
   "source": [
    "### 06) WAP to generate 100 random lottery tickets and pick two lucky tickets from it and announce them as Winner and Runner up respectively."
   ]
  },
  {
   "cell_type": "code",
   "execution_count": 12,
   "metadata": {},
   "outputs": [
    {
     "name": "stdout",
     "output_type": "stream",
     "text": [
      "Winner =  100\n",
      "Runner Up =  60\n"
     ]
    }
   ],
   "source": [
    "li=[]\n",
    "for i in range(0,100):\n",
    "    n = random.randint(0,100)\n",
    "    li.append(n)\n",
    "winner = random.choice(li)\n",
    "runnerup = random.choice(li)\n",
    "while(winner == runnerup):\n",
    "    runnerup = random.choice(li)\n",
    "print(\"Winner = \",winner)\n",
    "print(\"Runner Up = \",runnerup)"
   ]
  },
  {
   "cell_type": "markdown",
   "metadata": {},
   "source": [
    "### 07) WAP to print current date and time in Python."
   ]
  },
  {
   "cell_type": "code",
   "execution_count": 14,
   "metadata": {},
   "outputs": [
    {
     "name": "stdout",
     "output_type": "stream",
     "text": [
      "Current Date =  2025-02-10 13:21:41.753344\n"
     ]
    }
   ],
   "source": [
    "import datetime\n",
    "print(\"Current Date = \",datetime.datetime.today())"
   ]
  },
  {
   "cell_type": "markdown",
   "metadata": {},
   "source": [
    "### 08) Subtract a week (7 days) from a given date in Python."
   ]
  },
  {
   "cell_type": "code",
   "execution_count": 17,
   "metadata": {},
   "outputs": [
    {
     "name": "stdout",
     "output_type": "stream",
     "text": [
      "current date :  2025-02-10 13:28:54.097787\n",
      "before 7 days :  2025-02-03 13:28:54.097787\n"
     ]
    }
   ],
   "source": [
    "today = datetime.datetime.now()\n",
    "df1 = today- datetime.timedelta(days=7)\n",
    "print(\"current date : \",today)\n",
    "print(\"before 7 days : \",df1)"
   ]
  },
  {
   "cell_type": "markdown",
   "metadata": {},
   "source": [
    "### 09) WAP to Calculate number of days between two given dates."
   ]
  },
  {
   "cell_type": "code",
   "execution_count": 1,
   "metadata": {},
   "outputs": [
    {
     "name": "stdin",
     "output_type": "stream",
     "text": [
      "Enter first date (DD-MM-YYYY):  01-02-2023\n",
      "Enter second date (DD-MM-YYYY):  01-03-2023\n"
     ]
    },
    {
     "name": "stdout",
     "output_type": "stream",
     "text": [
      "Number of days between given dates is: 28\n"
     ]
    }
   ],
   "source": [
    "import datetime\n",
    "\n",
    "date1 = input('Enter first date (DD-MM-YYYY): ')\n",
    "date2 = input('Enter second date (DD-MM-YYYY): ')\n",
    "\n",
    "d1 = datetime.datetime.strptime(date1, '%d-%m-%Y')\n",
    "d2 = datetime.datetime.strptime(date2, '%d-%m-%Y')\n",
    "\n",
    "difference = abs((d2 - d1).days)\n",
    "\n",
    "print('Number of days between given dates is:', difference)"
   ]
  },
  {
   "cell_type": "markdown",
   "metadata": {},
   "source": [
    "### 10) WAP to Find the day of the week of a given date.(i.e. wether it is sunday/monday/tuesday/etc.)"
   ]
  },
  {
   "cell_type": "code",
   "execution_count": 6,
   "metadata": {},
   "outputs": [
    {
     "name": "stdin",
     "output_type": "stream",
     "text": [
      "Enter a date1:  01/02/2023\n"
     ]
    },
    {
     "name": "stdout",
     "output_type": "stream",
     "text": [
      "2023-02-01 00:00:00\n",
      "day of the week of a given date : Wednesday\n"
     ]
    }
   ],
   "source": [
    "date=input(\"Enter a date1: \")\n",
    "convert_date = datetime.datetime.strptime(date,\"%d/%m/%Y\")\n",
    "\n",
    "print(convert_date)\n",
    "d1=convert_date.strftime(\"%A\")\n",
    "print(\"day of the week of a given date :\",d1)"
   ]
  },
  {
   "cell_type": "markdown",
   "metadata": {},
   "source": [
    "### 11) WAP to demonstrate the use of date time module."
   ]
  },
  {
   "cell_type": "code",
   "execution_count": 4,
   "metadata": {},
   "outputs": [
    {
     "name": "stdout",
     "output_type": "stream",
     "text": [
      "2025-03-06 11:14:53.329001\n"
     ]
    }
   ],
   "source": [
    "import datetime\n",
    "print(datetime.datetime.today())"
   ]
  },
  {
   "cell_type": "markdown",
   "metadata": {},
   "source": [
    "### 12) WAP to demonstrate the use of the math module."
   ]
  },
  {
   "cell_type": "code",
   "execution_count": 5,
   "metadata": {},
   "outputs": [
    {
     "name": "stdout",
     "output_type": "stream",
     "text": [
      "Vlue Of Pi = 3.141592653589793\n",
      "Floor = 22\n",
      "Ceil = 23\n"
     ]
    }
   ],
   "source": [
    "import math\n",
    "print('Vlue Of Pi =',math.pi)\n",
    "print('Floor =',math.floor(22.22))\n",
    "print('Ceil =',math.ceil(22.22))"
   ]
  }
 ],
 "metadata": {
  "kernelspec": {
   "display_name": "Python 3 (ipykernel)",
   "language": "python",
   "name": "python3"
  },
  "language_info": {
   "codemirror_mode": {
    "name": "ipython",
    "version": 3
   },
   "file_extension": ".py",
   "mimetype": "text/x-python",
   "name": "python",
   "nbconvert_exporter": "python",
   "pygments_lexer": "ipython3",
   "version": "3.12.7"
  }
 },
 "nbformat": 4,
 "nbformat_minor": 4
}
