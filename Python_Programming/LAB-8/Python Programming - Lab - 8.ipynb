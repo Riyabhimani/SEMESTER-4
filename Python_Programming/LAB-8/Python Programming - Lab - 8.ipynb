{
 "cells": [
  {
   "cell_type": "markdown",
   "metadata": {},
   "source": [
    "<a href='https://www.darshan.ac.in/'> <img src='https://www.darshan.ac.in/Content/media/DU_Logo.svg' width=\"250\" height=\"300\"/></a>\n",
    "<pre>\n",
    "<center><b><h1>Python Programming - 2301CS404</b></center>\n",
    "<center><b><h1>Lab - 8</b></center>\n",
    "<center><b><h1>Riya Bhimani | 23010101030 | 11-01-2025</b></center>\n",
    "<pre>"
   ]
  },
  {
   "cell_type": "markdown",
   "metadata": {},
   "source": [
    "# User Defined Function"
   ]
  },
  {
   "cell_type": "markdown",
   "metadata": {},
   "source": [
    "### 01) Write a function to calculate BMI given mass and height. (BMI = mass/h**2)"
   ]
  },
  {
   "cell_type": "code",
   "execution_count": 9,
   "metadata": {},
   "outputs": [
    {
     "name": "stdin",
     "output_type": "stream",
     "text": [
      "Enter Mass: 4\n",
      "Enter height: 2\n"
     ]
    },
    {
     "name": "stdout",
     "output_type": "stream",
     "text": [
      "1.0\n"
     ]
    }
   ],
   "source": [
    "mass = int(input(\"Enter Mass:\"))\n",
    "h = int(input(\"Enter height:\"))\n",
    "def calBMI(mass,height):\n",
    "    BMI = mass/h**2\n",
    "    print(BMI)\n",
    "calBMI(mass,h)"
   ]
  },
  {
   "cell_type": "markdown",
   "metadata": {},
   "source": [
    "### 02) Write a function that add first n numbers."
   ]
  },
  {
   "cell_type": "code",
   "execution_count": 14,
   "metadata": {},
   "outputs": [
    {
     "name": "stdin",
     "output_type": "stream",
     "text": [
      "Enter n: 5\n"
     ]
    },
    {
     "name": "stdout",
     "output_type": "stream",
     "text": [
      "15\n"
     ]
    }
   ],
   "source": [
    "n = int(input(\"Enter n:\"))\n",
    "def addNnumbers(n):\n",
    "    sum=0\n",
    "    for i in range(n+1):\n",
    "        sum = sum+i\n",
    "    print(sum)\n",
    "addNnumbers(n)"
   ]
  },
  {
   "cell_type": "markdown",
   "metadata": {},
   "source": [
    "### 03) Write a function that returns 1 if the given number is Prime or 0 otherwise."
   ]
  },
  {
   "cell_type": "code",
   "execution_count": 56,
   "metadata": {},
   "outputs": [
    {
     "name": "stdin",
     "output_type": "stream",
     "text": [
      "Enter n: 4\n"
     ]
    },
    {
     "data": {
      "text/plain": [
       "0"
      ]
     },
     "execution_count": 56,
     "metadata": {},
     "output_type": "execute_result"
    }
   ],
   "source": [
    "n = int(input(\"Enter n:\"))\n",
    "def prime(n):\n",
    "    count=0\n",
    "    j=2\n",
    "    while(j<=n/2):\n",
    "        if n%j==0:\n",
    "            return 0\n",
    "        j+=1\n",
    "    else:\n",
    "        return 1\n",
    "prime(n)"
   ]
  },
  {
   "cell_type": "markdown",
   "metadata": {},
   "source": [
    "### 04) Write a function that returns the list of Prime numbers between given two numbers."
   ]
  },
  {
   "cell_type": "code",
   "execution_count": 5,
   "metadata": {},
   "outputs": [
    {
     "name": "stdin",
     "output_type": "stream",
     "text": [
      "Enter n1: 1\n",
      "Enter n2: 6\n"
     ]
    },
    {
     "name": "stdout",
     "output_type": "stream",
     "text": [
      "1\n",
      "2\n",
      "3\n",
      "5\n",
      "[1, 2, 3, 5]\n"
     ]
    }
   ],
   "source": [
    "n1 = int(input(\"Enter n1:\"))\n",
    "n2 = int(input(\"Enter n2:\"))\n",
    "def prime(n):\n",
    "    count=0\n",
    "    j=2\n",
    "    while(j<=n/2):\n",
    "        if n%j==0:\n",
    "            return 0\n",
    "        j+=1\n",
    "    else:\n",
    "        return 1\n",
    "def listPrime(n1,n2):\n",
    "    list=[]\n",
    "    for i in range(n1,n2+1):\n",
    "        if prime(i)==1:\n",
    "            print(i)\n",
    "            list.append(i)\n",
    "    print(list)\n",
    "listPrime(n1,n2)"
   ]
  },
  {
   "cell_type": "markdown",
   "metadata": {},
   "source": [
    "### 05) Write a function that returns True if the given string is Palindrome or False otherwise."
   ]
  },
  {
   "cell_type": "code",
   "execution_count": 59,
   "metadata": {},
   "outputs": [
    {
     "name": "stdin",
     "output_type": "stream",
     "text": [
      "Enter a string: abccba\n"
     ]
    },
    {
     "data": {
      "text/plain": [
       "True"
      ]
     },
     "execution_count": 59,
     "metadata": {},
     "output_type": "execute_result"
    }
   ],
   "source": [
    "s1=input(\"Enter a string:\")\n",
    "def palindrome(s1):\n",
    "    s2=s1[::-1]\n",
    "    if(s1==s2):\n",
    "        return True\n",
    "    else:\n",
    "        return False\n",
    "palindrome(s1)"
   ]
  },
  {
   "cell_type": "markdown",
   "metadata": {},
   "source": [
    "### 06) Write a function that returns the sum of all the elements of the list."
   ]
  },
  {
   "cell_type": "code",
   "execution_count": 48,
   "metadata": {},
   "outputs": [
    {
     "name": "stdout",
     "output_type": "stream",
     "text": [
      "Sum =  15\n"
     ]
    }
   ],
   "source": [
    "l1=[1,2,3,4,5]\n",
    "def addSum(l1):\n",
    "    sum=0\n",
    "    for i in l1:\n",
    "        sum=sum+i\n",
    "print(\"Sum = \",sum)"
   ]
  },
  {
   "cell_type": "markdown",
   "metadata": {},
   "source": [
    "### 07) Write a function to calculate the sum of the first element of each tuples inside the list."
   ]
  },
  {
   "cell_type": "code",
   "execution_count": 2,
   "metadata": {},
   "outputs": [
    {
     "name": "stdout",
     "output_type": "stream",
     "text": [
      "12\n"
     ]
    }
   ],
   "source": [
    "l1=[(1,2,3),(4,5,6),(7,8,9)]\n",
    "l2=[]\n",
    "def sum(l1):\n",
    "    sum=0\n",
    "    for i in l1:\n",
    "        sum=sum+i[0]\n",
    "    print(sum)\n",
    "sum(l1)"
   ]
  },
  {
   "cell_type": "markdown",
   "metadata": {},
   "source": [
    "### 08) Write a recursive function to find nth term of Fibonacci Series."
   ]
  },
  {
   "cell_type": "code",
   "execution_count": 5,
   "metadata": {},
   "outputs": [
    {
     "name": "stdout",
     "output_type": "stream",
     "text": [
      "The 10 th term of the Fibonacci series is 34\n"
     ]
    }
   ],
   "source": [
    "def fibonacci(n):\n",
    "    if n <= 0:\n",
    "        return \"Invalid Input\"\n",
    "    elif n == 1:\n",
    "        return 0\n",
    "    elif n == 2:\n",
    "        return 1\n",
    "    else:\n",
    "        return fibonacci(n - 1) + fibonacci(n - 2)\n",
    "\n",
    "nthTerm = 10\n",
    "print(\"The\",nthTerm,\"th term of the Fibonacci series is\",fibonacci(nthTerm))"
   ]
  },
  {
   "cell_type": "markdown",
   "metadata": {},
   "source": [
    "### 09) Write a function to get the name of the student based on the given rollno.\n",
    "#### Example: Given dict1 = {101:'Ajay', 102:'Rahul', 103:'Jay', 104:'Pooja'} find name of student whose rollno = 103"
   ]
  },
  {
   "cell_type": "code",
   "execution_count": 19,
   "metadata": {},
   "outputs": [
    {
     "name": "stdin",
     "output_type": "stream",
     "text": [
      "Enter rollNo: 103\n"
     ]
    },
    {
     "name": "stdout",
     "output_type": "stream",
     "text": [
      "The name of the student with roll number 103 is Jay\n"
     ]
    }
   ],
   "source": [
    "def get_student_name(rollno, students):\n",
    "    return students.get(rollno, \"Roll number not found\")\n",
    "\n",
    "dict1 = {101: 'Ajay', 102: 'Rahul', 103: 'Jay', 104: 'Pooja'}\n",
    "rollno = int(input(\"Enter rollNo:\"))\n",
    "print(\"The name of the student with roll number\",rollno,\"is\",get_student_name(rollno, dict1))"
   ]
  },
  {
   "cell_type": "markdown",
   "metadata": {},
   "source": [
    "### 10) Write a function to get the sum of the scores ending with zero.\n",
    "#### Example : scores = [200, 456, 300, 100, 234, 678] \n",
    "#### Ans = 200 + 300 + 100 = 600"
   ]
  },
  {
   "cell_type": "code",
   "execution_count": 35,
   "metadata": {},
   "outputs": [
    {
     "name": "stdout",
     "output_type": "stream",
     "text": [
      "Sum= 600\n"
     ]
    }
   ],
   "source": [
    "scores = [200, 456, 300, 100, 234, 678]\n",
    "def sumOfLast0(scores):\n",
    "    sum=0\n",
    "    i=0\n",
    "    for i in scores:\n",
    "        if(i%10==0):\n",
    "            sum=sum+i\n",
    "    print(\"Sum=\",sum)\n",
    "sumOfLast0(scores)"
   ]
  },
  {
   "cell_type": "markdown",
   "metadata": {},
   "source": [
    "### 11) Write a function to invert a given Dictionary.\n",
    "#### hint: keys to values & values to keys\n",
    "#### Before : {'a': 10, 'b':20, 'c':30, 'd':40}\n",
    "#### After : {10:'a', 20:'b', 30:'c', 40:'d'}"
   ]
  },
  {
   "cell_type": "code",
   "execution_count": 39,
   "metadata": {},
   "outputs": [
    {
     "name": "stdout",
     "output_type": "stream",
     "text": [
      "Before:  {'a': 10, 'b': 20, 'c': 30, 'd': 40}\n",
      "After:  {10: 'a', 20: 'b', 30: 'c', 40: 'd'}\n"
     ]
    }
   ],
   "source": [
    "original_dict = {'a': 10, 'b': 20, 'c': 30, 'd': 40}\n",
    "\n",
    "def invert_dict(input_dict):\n",
    "    return {value: key for key, value in input_dict.items()}\n",
    "    \n",
    "inverted_dict = invert_dict(original_dict)\n",
    "\n",
    "print(\"Before: \",original_dict)\n",
    "print(\"After: \",inverted_dict)"
   ]
  },
  {
   "cell_type": "markdown",
   "metadata": {},
   "source": [
    "### 12) Write a function to check whether the given string is Pangram or not.\n",
    "#### hint: Pangram is a string containing all the characters a-z atlest once.\n",
    "#### \"the quick brown fox jumps over the lazy dog\" is a Pangram string."
   ]
  },
  {
   "cell_type": "code",
   "execution_count": 28,
   "metadata": {},
   "outputs": [
    {
     "data": {
      "text/plain": [
       "True"
      ]
     },
     "execution_count": 28,
     "metadata": {},
     "output_type": "execute_result"
    }
   ],
   "source": [
    "str1=\"the quick brown fox jumps over the lazy dog\"\n",
    "def pangram2(str1):\n",
    "    for i in 'qwertyuioplkjhgfdsazxcvbnm':\n",
    "        if i not in str1:\n",
    "            return False\n",
    "    return True\n",
    "pangram2(str1)"
   ]
  },
  {
   "cell_type": "markdown",
   "metadata": {},
   "source": [
    "### 13) Write a function that returns the number of uppercase and lowercase letters in the given string. \n",
    "#### example : Input : s1 = AbcDEfgh ,Ouptput : no_upper = 3, no_lower = 5"
   ]
  },
  {
   "cell_type": "code",
   "execution_count": 48,
   "metadata": {},
   "outputs": [
    {
     "name": "stdout",
     "output_type": "stream",
     "text": [
      "Lowercase characters= 5\n",
      "Uppercase characters= 3\n"
     ]
    }
   ],
   "source": [
    "s1 = \"AbcDEfgh\"\n",
    "def countAlpha(s1):\n",
    "    Lcount=0\n",
    "    Ucount=0\n",
    "    for i in s1:\n",
    "        if(i.isupper()==True):\n",
    "            Ucount+=1\n",
    "        else:\n",
    "            Lcount+=1\n",
    "    print(\"Lowercase characters=\",Lcount)\n",
    "    print(\"Uppercase characters=\",Ucount)\n",
    "countAlpha(s1)"
   ]
  },
  {
   "cell_type": "markdown",
   "metadata": {},
   "source": [
    "### 14) Write a lambda function to get smallest number from the given two numbers."
   ]
  },
  {
   "cell_type": "code",
   "execution_count": 12,
   "metadata": {},
   "outputs": [
    {
     "name": "stdin",
     "output_type": "stream",
     "text": [
      "Enter a: 1\n",
      "Enter b: 2\n"
     ]
    },
    {
     "data": {
      "text/plain": [
       "2"
      ]
     },
     "execution_count": 12,
     "metadata": {},
     "output_type": "execute_result"
    }
   ],
   "source": [
    "a=int(input(\"Enter a:\"))\n",
    "b=int(input(\"Enter b:\"))\n",
    "Small = lambda a,b : a if a>b else b\n",
    "Small(a,b)"
   ]
  },
  {
   "cell_type": "markdown",
   "metadata": {},
   "source": [
    "### 15) For the given list of names of students, extract the names having more that 7 characters. Use filter()."
   ]
  },
  {
   "cell_type": "code",
   "execution_count": 18,
   "metadata": {},
   "outputs": [
    {
     "data": {
      "text/plain": [
       "['ShrutiPatel', 'RadhuPatel']"
      ]
     },
     "execution_count": 18,
     "metadata": {},
     "output_type": "execute_result"
    }
   ],
   "source": [
    "students=['Riya','ShrutiPatel','RadhuPatel']\n",
    "ans=list(filter(lambda x:len(x)>7,students))\n",
    "ans"
   ]
  },
  {
   "cell_type": "markdown",
   "metadata": {},
   "source": [
    "### 16) For the given list of names of students, convert the first letter of all the names into uppercase. use map()."
   ]
  },
  {
   "cell_type": "code",
   "execution_count": 63,
   "metadata": {},
   "outputs": [
    {
     "name": "stdout",
     "output_type": "stream",
     "text": [
      "['Riya', 'Shrutipatel', 'Radhupatel']\n"
     ]
    }
   ],
   "source": [
    "students=['riya','shrutiPatel','radhuPatel']\n",
    "capitalized_names = list(map(lambda name: name.capitalize(), students))\n",
    "print(capitalized_names)"
   ]
  },
  {
   "cell_type": "markdown",
   "metadata": {},
   "source": [
    "### 17) Write udfs to call the functions with following types of arguments:\n",
    "1. Positional Arguments\n",
    "2. Keyword Arguments\n",
    "3. Default Arguments\n",
    "4. Variable Legngth Positional(*args) & variable length Keyword Arguments (**kwargs)\n",
    "5. Keyword-Only & Positional Only Arguments"
   ]
  },
  {
   "cell_type": "code",
   "execution_count": 52,
   "metadata": {},
   "outputs": [
    {
     "name": "stdout",
     "output_type": "stream",
     "text": [
      "Addition By Positional Arguments: 8\n"
     ]
    }
   ],
   "source": [
    "# Positional Args\n",
    "def positional_args(a, b):\n",
    "    return a + b\n",
    "result1 = positional_args(5, 3)\n",
    "print(\"Addition By Positional Arguments:\", result1)"
   ]
  },
  {
   "cell_type": "code",
   "execution_count": 56,
   "metadata": {},
   "outputs": [
    {
     "name": "stdout",
     "output_type": "stream",
     "text": [
      "Addition By Keyword Arguments: 8\n"
     ]
    }
   ],
   "source": [
    "#Keyword Args\n",
    "def keyword_args(a, b):\n",
    "    return a + b\n",
    "result2 = keyword_args(a=5, b=3)\n",
    "print(\"Addition By Keyword Arguments:\", result2)"
   ]
  },
  {
   "cell_type": "code",
   "execution_count": 59,
   "metadata": {},
   "outputs": [
    {
     "name": "stdout",
     "output_type": "stream",
     "text": [
      "Addition By Default Arguments: 25 20\n"
     ]
    }
   ],
   "source": [
    "#Default Args\n",
    "def default_args(a, b=10):\n",
    "    return a + b\n",
    "result3a = default_args(15)\n",
    "result3b = default_args(15, 5)\n",
    "print(\"Addition By Default Arguments:\", result3a, result3b)"
   ]
  },
  {
   "cell_type": "code",
   "execution_count": 60,
   "metadata": {},
   "outputs": [
    {
     "name": "stdout",
     "output_type": "stream",
     "text": [
      "Variable Length Arguments: Sum of args: 6, Kwargs: name=Alice age=25\n"
     ]
    }
   ],
   "source": [
    "#Variable Legngth Positional(*args) & variable length Keyword Arguments (**kwargs)\n",
    "def variable_args(*args, **kwargs):\n",
    "    sum_args = sum(args)\n",
    "    concatenated_kwargs = \" \".join(f\"{key}={value}\" for key, value in kwargs.items())\n",
    "    return f\"Sum of args: {sum_args}, Kwargs: {concatenated_kwargs}\"\n",
    "result4 = variable_args(1, 2, 3, name=\"Alice\", age=25)\n",
    "print(\"Variable Length Arguments:\", result4)"
   ]
  },
  {
   "cell_type": "code",
   "execution_count": 62,
   "metadata": {},
   "outputs": [
    {
     "name": "stdout",
     "output_type": "stream",
     "text": [
      "Keyword-Only & Positional-Only Arguments: Positional-Only: 1, Regular: 2, Keyword-Only: 3\n"
     ]
    }
   ],
   "source": [
    "#Keyword-Only & Positional Only Arguments\n",
    "def mixed_args(a, /, b, *, c):\n",
    "    return f\"Positional-Only: {a}, Regular: {b}, Keyword-Only: {c}\"\n",
    "result5 = mixed_args(1, b=2, c=3)\n",
    "print(\"Keyword-Only & Positional-Only Arguments:\", result5)"
   ]
  }
 ],
 "metadata": {
  "kernelspec": {
   "display_name": "Python 3 (ipykernel)",
   "language": "python",
   "name": "python3"
  },
  "language_info": {
   "codemirror_mode": {
    "name": "ipython",
    "version": 3
   },
   "file_extension": ".py",
   "mimetype": "text/x-python",
   "name": "python",
   "nbconvert_exporter": "python",
   "pygments_lexer": "ipython3",
   "version": "3.12.7"
  }
 },
 "nbformat": 4,
 "nbformat_minor": 4
}
